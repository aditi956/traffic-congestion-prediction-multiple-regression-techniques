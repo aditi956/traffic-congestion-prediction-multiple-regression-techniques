{
 "cells": [
  {
   "cell_type": "markdown",
   "metadata": {},
   "source": [
    "## DS 5220 - Project : Data Processing, EDA and Modelling (Linear Regression, Random Forest, XGBoost)"
   ]
  },
  {
   "cell_type": "code",
   "execution_count": 37,
   "metadata": {},
   "outputs": [],
   "source": [
    "import pandas as pd\n",
    "import numpy as np\n",
    "import matplotlib.pyplot as plt \n",
    "import seaborn as sns"
   ]
  },
  {
   "cell_type": "markdown",
   "metadata": {},
   "source": [
    "#### Importing datasets"
   ]
  },
  {
   "cell_type": "code",
   "execution_count": 38,
   "metadata": {},
   "outputs": [],
   "source": [
    "t = pd.read_csv(\"C:/Users/aditi/OneDrive/Desktop/NEU/NEU Summer 2021/DS 5220/Project/train.csv\")\n",
    "test = pd.read_csv(\"C:/Users/aditi/OneDrive/Desktop/NEU/NEU Summer 2021/DS 5220/Project/test.csv\")"
   ]
  },
  {
   "cell_type": "markdown",
   "metadata": {},
   "source": [
    "#### Data Preprocessing"
   ]
  },
  {
   "cell_type": "code",
   "execution_count": 39,
   "metadata": {},
   "outputs": [
    {
     "data": {
      "text/html": [
       "<div>\n",
       "<style scoped>\n",
       "    .dataframe tbody tr th:only-of-type {\n",
       "        vertical-align: middle;\n",
       "    }\n",
       "\n",
       "    .dataframe tbody tr th {\n",
       "        vertical-align: top;\n",
       "    }\n",
       "\n",
       "    .dataframe thead th {\n",
       "        text-align: right;\n",
       "    }\n",
       "</style>\n",
       "<table border=\"1\" class=\"dataframe\">\n",
       "  <thead>\n",
       "    <tr style=\"text-align: right;\">\n",
       "      <th></th>\n",
       "      <th>RowId</th>\n",
       "      <th>IntersectionId</th>\n",
       "      <th>Latitude</th>\n",
       "      <th>Longitude</th>\n",
       "      <th>Hour</th>\n",
       "      <th>Weekend</th>\n",
       "      <th>Month</th>\n",
       "      <th>TotalTimeStopped_p20</th>\n",
       "      <th>TotalTimeStopped_p40</th>\n",
       "      <th>TotalTimeStopped_p50</th>\n",
       "      <th>...</th>\n",
       "      <th>TimeFromFirstStop_p20</th>\n",
       "      <th>TimeFromFirstStop_p40</th>\n",
       "      <th>TimeFromFirstStop_p50</th>\n",
       "      <th>TimeFromFirstStop_p60</th>\n",
       "      <th>TimeFromFirstStop_p80</th>\n",
       "      <th>DistanceToFirstStop_p20</th>\n",
       "      <th>DistanceToFirstStop_p40</th>\n",
       "      <th>DistanceToFirstStop_p50</th>\n",
       "      <th>DistanceToFirstStop_p60</th>\n",
       "      <th>DistanceToFirstStop_p80</th>\n",
       "    </tr>\n",
       "  </thead>\n",
       "  <tbody>\n",
       "    <tr>\n",
       "      <th>count</th>\n",
       "      <td>8.563870e+05</td>\n",
       "      <td>856387.000000</td>\n",
       "      <td>856387.000000</td>\n",
       "      <td>856387.000000</td>\n",
       "      <td>856387.000000</td>\n",
       "      <td>856387.000000</td>\n",
       "      <td>856387.000000</td>\n",
       "      <td>856387.000000</td>\n",
       "      <td>856387.000000</td>\n",
       "      <td>856387.000000</td>\n",
       "      <td>...</td>\n",
       "      <td>856387.000000</td>\n",
       "      <td>856387.000000</td>\n",
       "      <td>856387.000000</td>\n",
       "      <td>856387.000000</td>\n",
       "      <td>856387.000000</td>\n",
       "      <td>856387.000000</td>\n",
       "      <td>856387.000000</td>\n",
       "      <td>856387.000000</td>\n",
       "      <td>856387.00000</td>\n",
       "      <td>856387.000000</td>\n",
       "    </tr>\n",
       "    <tr>\n",
       "      <th>mean</th>\n",
       "      <td>2.349550e+06</td>\n",
       "      <td>833.283384</td>\n",
       "      <td>39.618965</td>\n",
       "      <td>-77.916488</td>\n",
       "      <td>12.431234</td>\n",
       "      <td>0.277880</td>\n",
       "      <td>9.104808</td>\n",
       "      <td>1.755596</td>\n",
       "      <td>5.403592</td>\n",
       "      <td>7.722655</td>\n",
       "      <td>...</td>\n",
       "      <td>3.181096</td>\n",
       "      <td>9.162174</td>\n",
       "      <td>12.722165</td>\n",
       "      <td>18.926085</td>\n",
       "      <td>34.201656</td>\n",
       "      <td>6.765856</td>\n",
       "      <td>20.285128</td>\n",
       "      <td>28.837113</td>\n",
       "      <td>44.27231</td>\n",
       "      <td>83.991313</td>\n",
       "    </tr>\n",
       "    <tr>\n",
       "      <th>std</th>\n",
       "      <td>2.472178e+05</td>\n",
       "      <td>654.308913</td>\n",
       "      <td>2.935437</td>\n",
       "      <td>5.952959</td>\n",
       "      <td>6.071843</td>\n",
       "      <td>0.447954</td>\n",
       "      <td>1.991094</td>\n",
       "      <td>7.146549</td>\n",
       "      <td>12.981674</td>\n",
       "      <td>15.685910</td>\n",
       "      <td>...</td>\n",
       "      <td>11.835994</td>\n",
       "      <td>20.446568</td>\n",
       "      <td>24.219271</td>\n",
       "      <td>29.851797</td>\n",
       "      <td>41.130668</td>\n",
       "      <td>29.535968</td>\n",
       "      <td>59.202108</td>\n",
       "      <td>75.217343</td>\n",
       "      <td>102.03225</td>\n",
       "      <td>160.709797</td>\n",
       "    </tr>\n",
       "    <tr>\n",
       "      <th>min</th>\n",
       "      <td>1.921357e+06</td>\n",
       "      <td>0.000000</td>\n",
       "      <td>33.649973</td>\n",
       "      <td>-87.862288</td>\n",
       "      <td>0.000000</td>\n",
       "      <td>0.000000</td>\n",
       "      <td>1.000000</td>\n",
       "      <td>0.000000</td>\n",
       "      <td>0.000000</td>\n",
       "      <td>0.000000</td>\n",
       "      <td>...</td>\n",
       "      <td>0.000000</td>\n",
       "      <td>0.000000</td>\n",
       "      <td>0.000000</td>\n",
       "      <td>0.000000</td>\n",
       "      <td>0.000000</td>\n",
       "      <td>0.000000</td>\n",
       "      <td>0.000000</td>\n",
       "      <td>0.000000</td>\n",
       "      <td>0.00000</td>\n",
       "      <td>0.000000</td>\n",
       "    </tr>\n",
       "    <tr>\n",
       "      <th>25%</th>\n",
       "      <td>2.135454e+06</td>\n",
       "      <td>291.000000</td>\n",
       "      <td>39.936739</td>\n",
       "      <td>-84.387607</td>\n",
       "      <td>8.000000</td>\n",
       "      <td>0.000000</td>\n",
       "      <td>7.000000</td>\n",
       "      <td>0.000000</td>\n",
       "      <td>0.000000</td>\n",
       "      <td>0.000000</td>\n",
       "      <td>...</td>\n",
       "      <td>0.000000</td>\n",
       "      <td>0.000000</td>\n",
       "      <td>0.000000</td>\n",
       "      <td>0.000000</td>\n",
       "      <td>0.000000</td>\n",
       "      <td>0.000000</td>\n",
       "      <td>0.000000</td>\n",
       "      <td>0.000000</td>\n",
       "      <td>0.00000</td>\n",
       "      <td>0.000000</td>\n",
       "    </tr>\n",
       "    <tr>\n",
       "      <th>50%</th>\n",
       "      <td>2.349550e+06</td>\n",
       "      <td>679.000000</td>\n",
       "      <td>39.982974</td>\n",
       "      <td>-75.175055</td>\n",
       "      <td>13.000000</td>\n",
       "      <td>0.000000</td>\n",
       "      <td>9.000000</td>\n",
       "      <td>0.000000</td>\n",
       "      <td>0.000000</td>\n",
       "      <td>0.000000</td>\n",
       "      <td>...</td>\n",
       "      <td>0.000000</td>\n",
       "      <td>0.000000</td>\n",
       "      <td>0.000000</td>\n",
       "      <td>0.000000</td>\n",
       "      <td>27.000000</td>\n",
       "      <td>0.000000</td>\n",
       "      <td>0.000000</td>\n",
       "      <td>0.000000</td>\n",
       "      <td>0.00000</td>\n",
       "      <td>60.400000</td>\n",
       "    </tr>\n",
       "    <tr>\n",
       "      <th>75%</th>\n",
       "      <td>2.563646e+06</td>\n",
       "      <td>1264.000000</td>\n",
       "      <td>41.910047</td>\n",
       "      <td>-75.100495</td>\n",
       "      <td>17.000000</td>\n",
       "      <td>1.000000</td>\n",
       "      <td>11.000000</td>\n",
       "      <td>0.000000</td>\n",
       "      <td>0.000000</td>\n",
       "      <td>10.000000</td>\n",
       "      <td>...</td>\n",
       "      <td>0.000000</td>\n",
       "      <td>0.000000</td>\n",
       "      <td>22.000000</td>\n",
       "      <td>31.000000</td>\n",
       "      <td>49.000000</td>\n",
       "      <td>0.000000</td>\n",
       "      <td>0.000000</td>\n",
       "      <td>53.100000</td>\n",
       "      <td>64.20000</td>\n",
       "      <td>85.950000</td>\n",
       "    </tr>\n",
       "    <tr>\n",
       "      <th>max</th>\n",
       "      <td>2.777743e+06</td>\n",
       "      <td>2875.000000</td>\n",
       "      <td>42.381782</td>\n",
       "      <td>-71.025550</td>\n",
       "      <td>23.000000</td>\n",
       "      <td>1.000000</td>\n",
       "      <td>12.000000</td>\n",
       "      <td>298.000000</td>\n",
       "      <td>375.000000</td>\n",
       "      <td>375.000000</td>\n",
       "      <td>...</td>\n",
       "      <td>337.000000</td>\n",
       "      <td>356.000000</td>\n",
       "      <td>356.000000</td>\n",
       "      <td>357.000000</td>\n",
       "      <td>359.000000</td>\n",
       "      <td>1901.900000</td>\n",
       "      <td>2844.400000</td>\n",
       "      <td>2851.100000</td>\n",
       "      <td>3282.40000</td>\n",
       "      <td>4079.200000</td>\n",
       "    </tr>\n",
       "  </tbody>\n",
       "</table>\n",
       "<p>8 rows × 22 columns</p>\n",
       "</div>"
      ],
      "text/plain": [
       "              RowId  IntersectionId       Latitude      Longitude  \\\n",
       "count  8.563870e+05   856387.000000  856387.000000  856387.000000   \n",
       "mean   2.349550e+06      833.283384      39.618965     -77.916488   \n",
       "std    2.472178e+05      654.308913       2.935437       5.952959   \n",
       "min    1.921357e+06        0.000000      33.649973     -87.862288   \n",
       "25%    2.135454e+06      291.000000      39.936739     -84.387607   \n",
       "50%    2.349550e+06      679.000000      39.982974     -75.175055   \n",
       "75%    2.563646e+06     1264.000000      41.910047     -75.100495   \n",
       "max    2.777743e+06     2875.000000      42.381782     -71.025550   \n",
       "\n",
       "                Hour        Weekend          Month  TotalTimeStopped_p20  \\\n",
       "count  856387.000000  856387.000000  856387.000000         856387.000000   \n",
       "mean       12.431234       0.277880       9.104808              1.755596   \n",
       "std         6.071843       0.447954       1.991094              7.146549   \n",
       "min         0.000000       0.000000       1.000000              0.000000   \n",
       "25%         8.000000       0.000000       7.000000              0.000000   \n",
       "50%        13.000000       0.000000       9.000000              0.000000   \n",
       "75%        17.000000       1.000000      11.000000              0.000000   \n",
       "max        23.000000       1.000000      12.000000            298.000000   \n",
       "\n",
       "       TotalTimeStopped_p40  TotalTimeStopped_p50  ...  TimeFromFirstStop_p20  \\\n",
       "count         856387.000000         856387.000000  ...          856387.000000   \n",
       "mean               5.403592              7.722655  ...               3.181096   \n",
       "std               12.981674             15.685910  ...              11.835994   \n",
       "min                0.000000              0.000000  ...               0.000000   \n",
       "25%                0.000000              0.000000  ...               0.000000   \n",
       "50%                0.000000              0.000000  ...               0.000000   \n",
       "75%                0.000000             10.000000  ...               0.000000   \n",
       "max              375.000000            375.000000  ...             337.000000   \n",
       "\n",
       "       TimeFromFirstStop_p40  TimeFromFirstStop_p50  TimeFromFirstStop_p60  \\\n",
       "count          856387.000000          856387.000000          856387.000000   \n",
       "mean                9.162174              12.722165              18.926085   \n",
       "std                20.446568              24.219271              29.851797   \n",
       "min                 0.000000               0.000000               0.000000   \n",
       "25%                 0.000000               0.000000               0.000000   \n",
       "50%                 0.000000               0.000000               0.000000   \n",
       "75%                 0.000000              22.000000              31.000000   \n",
       "max               356.000000             356.000000             357.000000   \n",
       "\n",
       "       TimeFromFirstStop_p80  DistanceToFirstStop_p20  \\\n",
       "count          856387.000000            856387.000000   \n",
       "mean               34.201656                 6.765856   \n",
       "std                41.130668                29.535968   \n",
       "min                 0.000000                 0.000000   \n",
       "25%                 0.000000                 0.000000   \n",
       "50%                27.000000                 0.000000   \n",
       "75%                49.000000                 0.000000   \n",
       "max               359.000000              1901.900000   \n",
       "\n",
       "       DistanceToFirstStop_p40  DistanceToFirstStop_p50  \\\n",
       "count            856387.000000            856387.000000   \n",
       "mean                 20.285128                28.837113   \n",
       "std                  59.202108                75.217343   \n",
       "min                   0.000000                 0.000000   \n",
       "25%                   0.000000                 0.000000   \n",
       "50%                   0.000000                 0.000000   \n",
       "75%                   0.000000                53.100000   \n",
       "max                2844.400000              2851.100000   \n",
       "\n",
       "       DistanceToFirstStop_p60  DistanceToFirstStop_p80  \n",
       "count             856387.00000            856387.000000  \n",
       "mean                  44.27231                83.991313  \n",
       "std                  102.03225               160.709797  \n",
       "min                    0.00000                 0.000000  \n",
       "25%                    0.00000                 0.000000  \n",
       "50%                    0.00000                60.400000  \n",
       "75%                   64.20000                85.950000  \n",
       "max                 3282.40000              4079.200000  \n",
       "\n",
       "[8 rows x 22 columns]"
      ]
     },
     "execution_count": 39,
     "metadata": {},
     "output_type": "execute_result"
    }
   ],
   "source": [
    "t.describe()"
   ]
  },
  {
   "cell_type": "code",
   "execution_count": 40,
   "metadata": {},
   "outputs": [
    {
     "data": {
      "text/html": [
       "<div>\n",
       "<style scoped>\n",
       "    .dataframe tbody tr th:only-of-type {\n",
       "        vertical-align: middle;\n",
       "    }\n",
       "\n",
       "    .dataframe tbody tr th {\n",
       "        vertical-align: top;\n",
       "    }\n",
       "\n",
       "    .dataframe thead th {\n",
       "        text-align: right;\n",
       "    }\n",
       "</style>\n",
       "<table border=\"1\" class=\"dataframe\">\n",
       "  <thead>\n",
       "    <tr style=\"text-align: right;\">\n",
       "      <th></th>\n",
       "      <th>RowId</th>\n",
       "      <th>IntersectionId</th>\n",
       "      <th>Latitude</th>\n",
       "      <th>Longitude</th>\n",
       "      <th>EntryStreetName</th>\n",
       "      <th>ExitStreetName</th>\n",
       "      <th>EntryHeading</th>\n",
       "      <th>ExitHeading</th>\n",
       "      <th>Hour</th>\n",
       "      <th>Weekend</th>\n",
       "      <th>...</th>\n",
       "      <th>TimeFromFirstStop_p40</th>\n",
       "      <th>TimeFromFirstStop_p50</th>\n",
       "      <th>TimeFromFirstStop_p60</th>\n",
       "      <th>TimeFromFirstStop_p80</th>\n",
       "      <th>DistanceToFirstStop_p20</th>\n",
       "      <th>DistanceToFirstStop_p40</th>\n",
       "      <th>DistanceToFirstStop_p50</th>\n",
       "      <th>DistanceToFirstStop_p60</th>\n",
       "      <th>DistanceToFirstStop_p80</th>\n",
       "      <th>City</th>\n",
       "    </tr>\n",
       "  </thead>\n",
       "  <tbody>\n",
       "    <tr>\n",
       "      <th>0</th>\n",
       "      <td>1921357</td>\n",
       "      <td>0</td>\n",
       "      <td>33.791659</td>\n",
       "      <td>-84.430032</td>\n",
       "      <td>Marietta Boulevard Northwest</td>\n",
       "      <td>Marietta Boulevard Northwest</td>\n",
       "      <td>NW</td>\n",
       "      <td>NW</td>\n",
       "      <td>0</td>\n",
       "      <td>0</td>\n",
       "      <td>...</td>\n",
       "      <td>0.0</td>\n",
       "      <td>0.0</td>\n",
       "      <td>0.0</td>\n",
       "      <td>0.0</td>\n",
       "      <td>0.0</td>\n",
       "      <td>0.0</td>\n",
       "      <td>0.0</td>\n",
       "      <td>0.0</td>\n",
       "      <td>0.0</td>\n",
       "      <td>Atlanta</td>\n",
       "    </tr>\n",
       "    <tr>\n",
       "      <th>1</th>\n",
       "      <td>1921358</td>\n",
       "      <td>0</td>\n",
       "      <td>33.791659</td>\n",
       "      <td>-84.430032</td>\n",
       "      <td>Marietta Boulevard Northwest</td>\n",
       "      <td>Marietta Boulevard Northwest</td>\n",
       "      <td>SE</td>\n",
       "      <td>SE</td>\n",
       "      <td>0</td>\n",
       "      <td>0</td>\n",
       "      <td>...</td>\n",
       "      <td>0.0</td>\n",
       "      <td>0.0</td>\n",
       "      <td>0.0</td>\n",
       "      <td>0.0</td>\n",
       "      <td>0.0</td>\n",
       "      <td>0.0</td>\n",
       "      <td>0.0</td>\n",
       "      <td>0.0</td>\n",
       "      <td>0.0</td>\n",
       "      <td>Atlanta</td>\n",
       "    </tr>\n",
       "    <tr>\n",
       "      <th>2</th>\n",
       "      <td>1921359</td>\n",
       "      <td>0</td>\n",
       "      <td>33.791659</td>\n",
       "      <td>-84.430032</td>\n",
       "      <td>Marietta Boulevard Northwest</td>\n",
       "      <td>Marietta Boulevard Northwest</td>\n",
       "      <td>NW</td>\n",
       "      <td>NW</td>\n",
       "      <td>1</td>\n",
       "      <td>0</td>\n",
       "      <td>...</td>\n",
       "      <td>0.0</td>\n",
       "      <td>0.0</td>\n",
       "      <td>0.0</td>\n",
       "      <td>0.0</td>\n",
       "      <td>0.0</td>\n",
       "      <td>0.0</td>\n",
       "      <td>0.0</td>\n",
       "      <td>0.0</td>\n",
       "      <td>0.0</td>\n",
       "      <td>Atlanta</td>\n",
       "    </tr>\n",
       "    <tr>\n",
       "      <th>3</th>\n",
       "      <td>1921360</td>\n",
       "      <td>0</td>\n",
       "      <td>33.791659</td>\n",
       "      <td>-84.430032</td>\n",
       "      <td>Marietta Boulevard Northwest</td>\n",
       "      <td>Marietta Boulevard Northwest</td>\n",
       "      <td>SE</td>\n",
       "      <td>SE</td>\n",
       "      <td>1</td>\n",
       "      <td>0</td>\n",
       "      <td>...</td>\n",
       "      <td>0.0</td>\n",
       "      <td>0.0</td>\n",
       "      <td>0.0</td>\n",
       "      <td>0.0</td>\n",
       "      <td>0.0</td>\n",
       "      <td>0.0</td>\n",
       "      <td>0.0</td>\n",
       "      <td>0.0</td>\n",
       "      <td>0.0</td>\n",
       "      <td>Atlanta</td>\n",
       "    </tr>\n",
       "    <tr>\n",
       "      <th>4</th>\n",
       "      <td>1921361</td>\n",
       "      <td>0</td>\n",
       "      <td>33.791659</td>\n",
       "      <td>-84.430032</td>\n",
       "      <td>Marietta Boulevard Northwest</td>\n",
       "      <td>Marietta Boulevard Northwest</td>\n",
       "      <td>NW</td>\n",
       "      <td>NW</td>\n",
       "      <td>2</td>\n",
       "      <td>0</td>\n",
       "      <td>...</td>\n",
       "      <td>0.0</td>\n",
       "      <td>0.0</td>\n",
       "      <td>0.0</td>\n",
       "      <td>0.0</td>\n",
       "      <td>0.0</td>\n",
       "      <td>0.0</td>\n",
       "      <td>0.0</td>\n",
       "      <td>0.0</td>\n",
       "      <td>0.0</td>\n",
       "      <td>Atlanta</td>\n",
       "    </tr>\n",
       "    <tr>\n",
       "      <th>...</th>\n",
       "      <td>...</td>\n",
       "      <td>...</td>\n",
       "      <td>...</td>\n",
       "      <td>...</td>\n",
       "      <td>...</td>\n",
       "      <td>...</td>\n",
       "      <td>...</td>\n",
       "      <td>...</td>\n",
       "      <td>...</td>\n",
       "      <td>...</td>\n",
       "      <td>...</td>\n",
       "      <td>...</td>\n",
       "      <td>...</td>\n",
       "      <td>...</td>\n",
       "      <td>...</td>\n",
       "      <td>...</td>\n",
       "      <td>...</td>\n",
       "      <td>...</td>\n",
       "      <td>...</td>\n",
       "      <td>...</td>\n",
       "      <td>...</td>\n",
       "    </tr>\n",
       "    <tr>\n",
       "      <th>856382</th>\n",
       "      <td>2777739</td>\n",
       "      <td>1990</td>\n",
       "      <td>39.938232</td>\n",
       "      <td>-75.149930</td>\n",
       "      <td>South 4th Street</td>\n",
       "      <td>Catharine Street</td>\n",
       "      <td>S</td>\n",
       "      <td>W</td>\n",
       "      <td>17</td>\n",
       "      <td>1</td>\n",
       "      <td>...</td>\n",
       "      <td>0.0</td>\n",
       "      <td>0.0</td>\n",
       "      <td>0.0</td>\n",
       "      <td>55.0</td>\n",
       "      <td>0.0</td>\n",
       "      <td>0.0</td>\n",
       "      <td>0.0</td>\n",
       "      <td>0.0</td>\n",
       "      <td>75.5</td>\n",
       "      <td>Philadelphia</td>\n",
       "    </tr>\n",
       "    <tr>\n",
       "      <th>856383</th>\n",
       "      <td>2777740</td>\n",
       "      <td>1990</td>\n",
       "      <td>39.938232</td>\n",
       "      <td>-75.149930</td>\n",
       "      <td>South 4th Street</td>\n",
       "      <td>South 4th Street</td>\n",
       "      <td>S</td>\n",
       "      <td>S</td>\n",
       "      <td>18</td>\n",
       "      <td>1</td>\n",
       "      <td>...</td>\n",
       "      <td>0.0</td>\n",
       "      <td>0.0</td>\n",
       "      <td>0.0</td>\n",
       "      <td>0.0</td>\n",
       "      <td>0.0</td>\n",
       "      <td>0.0</td>\n",
       "      <td>0.0</td>\n",
       "      <td>0.0</td>\n",
       "      <td>0.0</td>\n",
       "      <td>Philadelphia</td>\n",
       "    </tr>\n",
       "    <tr>\n",
       "      <th>856384</th>\n",
       "      <td>2777741</td>\n",
       "      <td>1990</td>\n",
       "      <td>39.938232</td>\n",
       "      <td>-75.149930</td>\n",
       "      <td>South 4th Street</td>\n",
       "      <td>South 4th Street</td>\n",
       "      <td>S</td>\n",
       "      <td>S</td>\n",
       "      <td>19</td>\n",
       "      <td>1</td>\n",
       "      <td>...</td>\n",
       "      <td>0.0</td>\n",
       "      <td>0.0</td>\n",
       "      <td>0.0</td>\n",
       "      <td>0.0</td>\n",
       "      <td>0.0</td>\n",
       "      <td>0.0</td>\n",
       "      <td>0.0</td>\n",
       "      <td>0.0</td>\n",
       "      <td>0.0</td>\n",
       "      <td>Philadelphia</td>\n",
       "    </tr>\n",
       "    <tr>\n",
       "      <th>856385</th>\n",
       "      <td>2777742</td>\n",
       "      <td>1990</td>\n",
       "      <td>39.938232</td>\n",
       "      <td>-75.149930</td>\n",
       "      <td>Catharine Street</td>\n",
       "      <td>Catharine Street</td>\n",
       "      <td>W</td>\n",
       "      <td>W</td>\n",
       "      <td>20</td>\n",
       "      <td>1</td>\n",
       "      <td>...</td>\n",
       "      <td>0.0</td>\n",
       "      <td>0.0</td>\n",
       "      <td>0.0</td>\n",
       "      <td>0.0</td>\n",
       "      <td>0.0</td>\n",
       "      <td>0.0</td>\n",
       "      <td>0.0</td>\n",
       "      <td>0.0</td>\n",
       "      <td>0.0</td>\n",
       "      <td>Philadelphia</td>\n",
       "    </tr>\n",
       "    <tr>\n",
       "      <th>856386</th>\n",
       "      <td>2777743</td>\n",
       "      <td>1990</td>\n",
       "      <td>39.938232</td>\n",
       "      <td>-75.149930</td>\n",
       "      <td>South 4th Street</td>\n",
       "      <td>South 4th Street</td>\n",
       "      <td>S</td>\n",
       "      <td>S</td>\n",
       "      <td>23</td>\n",
       "      <td>1</td>\n",
       "      <td>...</td>\n",
       "      <td>0.0</td>\n",
       "      <td>0.0</td>\n",
       "      <td>0.0</td>\n",
       "      <td>0.0</td>\n",
       "      <td>0.0</td>\n",
       "      <td>0.0</td>\n",
       "      <td>0.0</td>\n",
       "      <td>0.0</td>\n",
       "      <td>0.0</td>\n",
       "      <td>Philadelphia</td>\n",
       "    </tr>\n",
       "  </tbody>\n",
       "</table>\n",
       "<p>842452 rows × 28 columns</p>\n",
       "</div>"
      ],
      "text/plain": [
       "          RowId  IntersectionId   Latitude  Longitude  \\\n",
       "0       1921357               0  33.791659 -84.430032   \n",
       "1       1921358               0  33.791659 -84.430032   \n",
       "2       1921359               0  33.791659 -84.430032   \n",
       "3       1921360               0  33.791659 -84.430032   \n",
       "4       1921361               0  33.791659 -84.430032   \n",
       "...         ...             ...        ...        ...   \n",
       "856382  2777739            1990  39.938232 -75.149930   \n",
       "856383  2777740            1990  39.938232 -75.149930   \n",
       "856384  2777741            1990  39.938232 -75.149930   \n",
       "856385  2777742            1990  39.938232 -75.149930   \n",
       "856386  2777743            1990  39.938232 -75.149930   \n",
       "\n",
       "                     EntryStreetName                ExitStreetName  \\\n",
       "0       Marietta Boulevard Northwest  Marietta Boulevard Northwest   \n",
       "1       Marietta Boulevard Northwest  Marietta Boulevard Northwest   \n",
       "2       Marietta Boulevard Northwest  Marietta Boulevard Northwest   \n",
       "3       Marietta Boulevard Northwest  Marietta Boulevard Northwest   \n",
       "4       Marietta Boulevard Northwest  Marietta Boulevard Northwest   \n",
       "...                              ...                           ...   \n",
       "856382              South 4th Street              Catharine Street   \n",
       "856383              South 4th Street              South 4th Street   \n",
       "856384              South 4th Street              South 4th Street   \n",
       "856385              Catharine Street              Catharine Street   \n",
       "856386              South 4th Street              South 4th Street   \n",
       "\n",
       "       EntryHeading ExitHeading  Hour  Weekend  ...  TimeFromFirstStop_p40  \\\n",
       "0                NW          NW     0        0  ...                    0.0   \n",
       "1                SE          SE     0        0  ...                    0.0   \n",
       "2                NW          NW     1        0  ...                    0.0   \n",
       "3                SE          SE     1        0  ...                    0.0   \n",
       "4                NW          NW     2        0  ...                    0.0   \n",
       "...             ...         ...   ...      ...  ...                    ...   \n",
       "856382            S           W    17        1  ...                    0.0   \n",
       "856383            S           S    18        1  ...                    0.0   \n",
       "856384            S           S    19        1  ...                    0.0   \n",
       "856385            W           W    20        1  ...                    0.0   \n",
       "856386            S           S    23        1  ...                    0.0   \n",
       "\n",
       "       TimeFromFirstStop_p50  TimeFromFirstStop_p60  TimeFromFirstStop_p80  \\\n",
       "0                        0.0                    0.0                    0.0   \n",
       "1                        0.0                    0.0                    0.0   \n",
       "2                        0.0                    0.0                    0.0   \n",
       "3                        0.0                    0.0                    0.0   \n",
       "4                        0.0                    0.0                    0.0   \n",
       "...                      ...                    ...                    ...   \n",
       "856382                   0.0                    0.0                   55.0   \n",
       "856383                   0.0                    0.0                    0.0   \n",
       "856384                   0.0                    0.0                    0.0   \n",
       "856385                   0.0                    0.0                    0.0   \n",
       "856386                   0.0                    0.0                    0.0   \n",
       "\n",
       "        DistanceToFirstStop_p20  DistanceToFirstStop_p40  \\\n",
       "0                           0.0                      0.0   \n",
       "1                           0.0                      0.0   \n",
       "2                           0.0                      0.0   \n",
       "3                           0.0                      0.0   \n",
       "4                           0.0                      0.0   \n",
       "...                         ...                      ...   \n",
       "856382                      0.0                      0.0   \n",
       "856383                      0.0                      0.0   \n",
       "856384                      0.0                      0.0   \n",
       "856385                      0.0                      0.0   \n",
       "856386                      0.0                      0.0   \n",
       "\n",
       "        DistanceToFirstStop_p50  DistanceToFirstStop_p60  \\\n",
       "0                           0.0                      0.0   \n",
       "1                           0.0                      0.0   \n",
       "2                           0.0                      0.0   \n",
       "3                           0.0                      0.0   \n",
       "4                           0.0                      0.0   \n",
       "...                         ...                      ...   \n",
       "856382                      0.0                      0.0   \n",
       "856383                      0.0                      0.0   \n",
       "856384                      0.0                      0.0   \n",
       "856385                      0.0                      0.0   \n",
       "856386                      0.0                      0.0   \n",
       "\n",
       "        DistanceToFirstStop_p80          City  \n",
       "0                           0.0       Atlanta  \n",
       "1                           0.0       Atlanta  \n",
       "2                           0.0       Atlanta  \n",
       "3                           0.0       Atlanta  \n",
       "4                           0.0       Atlanta  \n",
       "...                         ...           ...  \n",
       "856382                     75.5  Philadelphia  \n",
       "856383                      0.0  Philadelphia  \n",
       "856384                      0.0  Philadelphia  \n",
       "856385                      0.0  Philadelphia  \n",
       "856386                      0.0  Philadelphia  \n",
       "\n",
       "[842452 rows x 28 columns]"
      ]
     },
     "execution_count": 40,
     "metadata": {},
     "output_type": "execute_result"
    }
   ],
   "source": [
    "t.dropna()"
   ]
  },
  {
   "cell_type": "code",
   "execution_count": 41,
   "metadata": {},
   "outputs": [
    {
     "data": {
      "text/plain": [
       "array(['NW', 'SE', 'NE', 'SW', 'W', 'E', 'N', 'S'], dtype=object)"
      ]
     },
     "execution_count": 41,
     "metadata": {},
     "output_type": "execute_result"
    }
   ],
   "source": [
    "t['EntryHeading'].unique()\n",
    "t['ExitHeading'].unique()"
   ]
  },
  {
   "cell_type": "code",
   "execution_count": 42,
   "metadata": {},
   "outputs": [
    {
     "data": {
      "text/plain": [
       "array(['Atlanta', 'Boston', 'Chicago', 'Philadelphia'], dtype=object)"
      ]
     },
     "execution_count": 42,
     "metadata": {},
     "output_type": "execute_result"
    }
   ],
   "source": [
    "t['City'].unique()"
   ]
  },
  {
   "cell_type": "code",
   "execution_count": 43,
   "metadata": {},
   "outputs": [
    {
     "data": {
      "text/plain": [
       "array(['Marietta Boulevard Northwest', nan, 'Peachtree Street Southwest',\n",
       "       ..., 'Spring Garden Tunnel', 'Lindley Avenue', 'Rorer Street'],\n",
       "      dtype=object)"
      ]
     },
     "execution_count": 43,
     "metadata": {},
     "output_type": "execute_result"
    }
   ],
   "source": [
    "t['EntryStreetName'].unique()"
   ]
  },
  {
   "cell_type": "code",
   "execution_count": 44,
   "metadata": {},
   "outputs": [],
   "source": [
    "# Removing null values\n",
    "t = t[t['EntryStreetName'].isnull() == False]"
   ]
  },
  {
   "cell_type": "code",
   "execution_count": 45,
   "metadata": {},
   "outputs": [],
   "source": [
    "t = t[t['ExitStreetName'].isnull() == False]"
   ]
  },
  {
   "cell_type": "code",
   "execution_count": 46,
   "metadata": {},
   "outputs": [
    {
     "data": {
      "text/plain": [
       "0"
      ]
     },
     "execution_count": 46,
     "metadata": {},
     "output_type": "execute_result"
    }
   ],
   "source": [
    "t['EntryStreetName'].isnull().sum()"
   ]
  },
  {
   "cell_type": "code",
   "execution_count": 47,
   "metadata": {},
   "outputs": [
    {
     "data": {
      "text/plain": [
       "0"
      ]
     },
     "execution_count": 47,
     "metadata": {},
     "output_type": "execute_result"
    }
   ],
   "source": [
    "t['ExitStreetName'].isnull().sum()"
   ]
  },
  {
   "cell_type": "markdown",
   "metadata": {},
   "source": [
    "#### EDA"
   ]
  },
  {
   "cell_type": "code",
   "execution_count": 48,
   "metadata": {},
   "outputs": [
    {
     "data": {
      "image/png": "[encoded data removed]",
      "text/plain": [
       "<Figure size 432x288 with 1 Axes>"
      ]
     },
     "metadata": {
      "needs_background": "light"
     },
     "output_type": "display_data"
    }
   ],
   "source": [
    "sns.lineplot(y = \"TotalTimeStopped_p80\", x = \"Hour\", data = t, hue = \"Weekend\",style = \"Weekend\", palette = \"hot\", markers = [\"o\", \"o\"],  legend=\"brief\")\n",
    "plt.xlabel(\"Hour\", fontsize = 15) \n",
    "plt.ylabel(\"Total time stopped\", fontsize = 15) \n",
    "plt.show()"
   ]
  },
  {
   "cell_type": "code",
   "execution_count": 49,
   "metadata": {},
   "outputs": [
    {
     "name": "stderr",
     "output_type": "stream",
     "text": [
      "<ipython-input-49-e2c85677755c>:32: SettingWithCopyWarning: \n",
      "A value is trying to be set on a copy of a slice from a DataFrame.\n",
      "Try using .loc[row_indexer,col_indexer] = value instead\n",
      "\n",
      "See the caveats in the documentation: https://pandas.pydata.org/pandas-docs/stable/user_guide/indexing.html#returning-a-view-versus-a-copy\n",
      "  te['Typeofstreet'] = te['EntryStreetName'].apply(func_to_encode)\n",
      "<ipython-input-49-e2c85677755c>:34: SettingWithCopyWarning: \n",
      "A value is trying to be set on a copy of a slice from a DataFrame.\n",
      "Try using .loc[row_indexer,col_indexer] = value instead\n",
      "\n",
      "See the caveats in the documentation: https://pandas.pydata.org/pandas-docs/stable/user_guide/indexing.html#returning-a-view-versus-a-copy\n",
      "  te['time'] = val\n",
      "<ipython-input-49-e2c85677755c>:32: SettingWithCopyWarning: \n",
      "A value is trying to be set on a copy of a slice from a DataFrame.\n",
      "Try using .loc[row_indexer,col_indexer] = value instead\n",
      "\n",
      "See the caveats in the documentation: https://pandas.pydata.org/pandas-docs/stable/user_guide/indexing.html#returning-a-view-versus-a-copy\n",
      "  te['Typeofstreet'] = te['EntryStreetName'].apply(func_to_encode)\n",
      "<ipython-input-49-e2c85677755c>:34: SettingWithCopyWarning: \n",
      "A value is trying to be set on a copy of a slice from a DataFrame.\n",
      "Try using .loc[row_indexer,col_indexer] = value instead\n",
      "\n",
      "See the caveats in the documentation: https://pandas.pydata.org/pandas-docs/stable/user_guide/indexing.html#returning-a-view-versus-a-copy\n",
      "  te['time'] = val\n",
      "<ipython-input-49-e2c85677755c>:32: SettingWithCopyWarning: \n",
      "A value is trying to be set on a copy of a slice from a DataFrame.\n",
      "Try using .loc[row_indexer,col_indexer] = value instead\n",
      "\n",
      "See the caveats in the documentation: https://pandas.pydata.org/pandas-docs/stable/user_guide/indexing.html#returning-a-view-versus-a-copy\n",
      "  te['Typeofstreet'] = te['EntryStreetName'].apply(func_to_encode)\n",
      "<ipython-input-49-e2c85677755c>:34: SettingWithCopyWarning: \n",
      "A value is trying to be set on a copy of a slice from a DataFrame.\n",
      "Try using .loc[row_indexer,col_indexer] = value instead\n",
      "\n",
      "See the caveats in the documentation: https://pandas.pydata.org/pandas-docs/stable/user_guide/indexing.html#returning-a-view-versus-a-copy\n",
      "  te['time'] = val\n",
      "<ipython-input-49-e2c85677755c>:32: SettingWithCopyWarning: \n",
      "A value is trying to be set on a copy of a slice from a DataFrame.\n",
      "Try using .loc[row_indexer,col_indexer] = value instead\n",
      "\n",
      "See the caveats in the documentation: https://pandas.pydata.org/pandas-docs/stable/user_guide/indexing.html#returning-a-view-versus-a-copy\n",
      "  te['Typeofstreet'] = te['EntryStreetName'].apply(func_to_encode)\n",
      "<ipython-input-49-e2c85677755c>:34: SettingWithCopyWarning: \n",
      "A value is trying to be set on a copy of a slice from a DataFrame.\n",
      "Try using .loc[row_indexer,col_indexer] = value instead\n",
      "\n",
      "See the caveats in the documentation: https://pandas.pydata.org/pandas-docs/stable/user_guide/indexing.html#returning-a-view-versus-a-copy\n",
      "  te['time'] = val\n"
     ]
    },
    {
     "data": {
      "image/png": "[encoded data removed]",
      "text/plain": [
       "<Figure size 792x288 with 1 Axes>"
      ]
     },
     "metadata": {
      "needs_background": "light"
     },
     "output_type": "display_data"
    },
    {
     "data": {
      "image/png": "[encoded data removed]",
      "text/plain": [
       "<Figure size 792x288 with 1 Axes>"
      ]
     },
     "metadata": {
      "needs_background": "light"
     },
     "output_type": "display_data"
    },
    {
     "data": {
      "image/png": "[encoded data removed]",
      "text/plain": [
       "<Figure size 792x288 with 1 Axes>"
      ]
     },
     "metadata": {
      "needs_background": "light"
     },
     "output_type": "display_data"
    },
    {
     "data": {
      "image/png": "[encoded data removed]",
      "text/plain": [
       "<Figure size 792x288 with 1 Axes>"
      ]
     },
     "metadata": {
      "needs_background": "light"
     },
     "output_type": "display_data"
    }
   ],
   "source": [
    "#Alphabetical Order\n",
    "encoding_of_road_typ = {\n",
    "     \"Avenue\":\"Avenue\",\n",
    "     \"Ave\":\"Avenue\",\n",
    "     \"Boulevard\":\"Boulevard\",\n",
    "     \"Bridge\":\"Bridge\",\n",
    "     \"Drive\":\"Drive\",\n",
    "     \"Highway\":\"Highway\",\n",
    "     \"Lane\":\"Lane\",\n",
    "     \"Oval\":\"Oval\",\n",
    "     \"Parking\":\"Parking\",\n",
    "     \"Parkway\":\"Parkway\",\n",
    "     \"Place\":\"Place\",\n",
    "     \"Road\":\"Road\",\n",
    "     \"St\":\"Street\",\n",
    "     \"Street\":\"Street\",\n",
    "     \"Square\":\"Square\",\n",
    "     \"Tunnel\":\"Tunnel\",\n",
    "      \"Way\":\"Way\"   \n",
    "}\n",
    "\n",
    "def func_to_encode(y):\n",
    "    if pd.isna(y):\n",
    "        return \"Street\"\n",
    "    for r in encoding_of_road_typ.keys():\n",
    "        if r in y:\n",
    "            return encoding_of_road_typ[r]\n",
    "    return \"Street\"\n",
    "\n",
    "for c in t['City'].unique():\n",
    "    te = t[t['City'] == c]\n",
    "    te['Typeofstreet'] = te['EntryStreetName'].apply(func_to_encode)\n",
    "    val= te.sort_values('Typeofstreet').groupby(by=['Hour', 'Typeofstreet'])['TotalTimeStopped_p50'].transform(lambda x: x.mean())\n",
    "    te['time'] = val\n",
    "    fig, a = plt.subplots(figsize=(11,4))\n",
    "    a = sns.barplot(x='Typeofstreet', y='time', data=te, ax=a, ci=None)\n",
    "    a.set_ylabel('Total time stopped')\n",
    "    a.set_xlabel('Type of Street')\n",
    "    "
   ]
  },
  {
   "cell_type": "markdown",
   "metadata": {},
   "source": [
    "#### Data Encoding for categorical values"
   ]
  },
  {
   "cell_type": "code",
   "execution_count": 50,
   "metadata": {},
   "outputs": [],
   "source": [
    "encodingofaddresses = {\n",
    "     \"Ave\": 0,\n",
    "     \"Avenue\": 0,\n",
    "     \"Bld\": 1,\n",
    "     \"Boulevard\": 1,\n",
    "     \"Bridge\": 2,\n",
    "     \"Circle\": 3,\n",
    "     \"Court\": 4,\n",
    "     \"Drive\": 5,\n",
    "     \"Highway\": 6,\n",
    "     \"Lane\": 7,\n",
    "     \"Mall\": 8,\n",
    "     \"Oval\": 9,\n",
    "     \"Overpass\": 10,\n",
    "     \"Park\": 11,\n",
    "     \"Parks\": 11,\n",
    "     \"Parking\": 12,\n",
    "     \"Parkway\": 13,\n",
    "     \"Parkways\": 13,\n",
    "     \"Place\": 14,\n",
    "     \"Plaza\": 15, \n",
    "     \"Road\": 16,\n",
    "     \"St\": 17,\n",
    "     \"Street\": 17,\n",
    "     \"Square\": 18,\n",
    "     \"Terrace\": 19,\n",
    "     \"Tunnel\": 20,\n",
    "     \"Way\": 21    \n",
    "}"
   ]
  },
  {
   "cell_type": "code",
   "execution_count": 51,
   "metadata": {},
   "outputs": [],
   "source": [
    "def funcencode(y):\n",
    "    if pd.isna(y):\n",
    "        return None\n",
    "    for r in encodingofaddresses:\n",
    "        if (r in y):\n",
    "            return encodingofaddresses[r]\n",
    "    return None"
   ]
  },
  {
   "cell_type": "code",
   "execution_count": 52,
   "metadata": {},
   "outputs": [],
   "source": [
    "t[\"EncodedEntryAddress\"] = t['EntryStreetName'].apply(funcencode)\n",
    "t['EncodedExitAddress'] = t['ExitStreetName'].apply(funcencode)"
   ]
  },
  {
   "cell_type": "code",
   "execution_count": 53,
   "metadata": {},
   "outputs": [
    {
     "data": {
      "text/plain": [
       "array([ 1., 17.,  0., 16.,  7.,  5.,  4., 11., 14., 21.,  2.,  3., nan,\n",
       "        6., 19., 18., 10.,  8.,  9., 20.])"
      ]
     },
     "execution_count": 53,
     "metadata": {},
     "output_type": "execute_result"
    }
   ],
   "source": [
    "t[\"EncodedEntryAddress\"].unique()"
   ]
  },
  {
   "cell_type": "code",
   "execution_count": 54,
   "metadata": {},
   "outputs": [
    {
     "data": {
      "text/plain": [
       "array([ 1., 17.,  0., 16.,  7.,  5.,  4., 11., 14., 21.,  2.,  3., nan,\n",
       "        6., 19., 10., 18.,  8.,  9.])"
      ]
     },
     "execution_count": 54,
     "metadata": {},
     "output_type": "execute_result"
    }
   ],
   "source": [
    "t['EncodedExitAddress'].unique()"
   ]
  },
  {
   "cell_type": "code",
   "execution_count": 55,
   "metadata": {},
   "outputs": [],
   "source": [
    "# Removing null values\n",
    "t = t[t[\"EncodedEntryAddress\"].isnull() == False]"
   ]
  },
  {
   "cell_type": "code",
   "execution_count": 56,
   "metadata": {},
   "outputs": [],
   "source": [
    "t = t[t[\"EncodedExitAddress\"].isnull() == False]"
   ]
  },
  {
   "cell_type": "code",
   "execution_count": 57,
   "metadata": {},
   "outputs": [
    {
     "data": {
      "text/plain": [
       "0"
      ]
     },
     "execution_count": 57,
     "metadata": {},
     "output_type": "execute_result"
    }
   ],
   "source": [
    "t['EncodedEntryAddress'].isnull().sum()"
   ]
  },
  {
   "cell_type": "code",
   "execution_count": 58,
   "metadata": {},
   "outputs": [
    {
     "data": {
      "text/plain": [
       "0"
      ]
     },
     "execution_count": 58,
     "metadata": {},
     "output_type": "execute_result"
    }
   ],
   "source": [
    "t['EncodedExitAddress'].isnull().sum()"
   ]
  },
  {
   "cell_type": "code",
   "execution_count": 59,
   "metadata": {},
   "outputs": [],
   "source": [
    "def entry_same_as_exit(entry, exit):\n",
    "    if (entry == exit):\n",
    "        return True\n",
    "    return False"
   ]
  },
  {
   "cell_type": "code",
   "execution_count": 60,
   "metadata": {},
   "outputs": [],
   "source": [
    "t['IfEntryEqualsExit'] = t.apply(lambda x: entry_same_as_exit(x.EntryStreetName, x.ExitStreetName), axis=1)"
   ]
  },
  {
   "cell_type": "code",
   "execution_count": 61,
   "metadata": {},
   "outputs": [],
   "source": [
    "headeddirection = {\n",
    "    'S':0,\n",
    "    'SW':1/4,\n",
    "    'W':1/2,\n",
    "    'NW':3/4,\n",
    "    'N': 1,\n",
    "    'NE':5/4,\n",
    "    'E' :3/2,\n",
    "    'SE':7/4\n",
    "}"
   ]
  },
  {
   "cell_type": "code",
   "execution_count": 62,
   "metadata": {},
   "outputs": [],
   "source": [
    "t['EntryHeading'] = t['EntryHeading'].map(headeddirection)\n",
    "t['ExitHeading'] = t['ExitHeading'].map(headeddirection)"
   ]
  },
  {
   "cell_type": "code",
   "execution_count": 63,
   "metadata": {},
   "outputs": [],
   "source": [
    "from sklearn import preprocessing\n",
    "la = preprocessing.LabelEncoder()"
   ]
  },
  {
   "cell_type": "code",
   "execution_count": 65,
   "metadata": {
    "scrolled": true
   },
   "outputs": [
    {
     "data": {
      "text/plain": [
       "array(['0Atlanta', '1Atlanta', '2Atlanta', ..., '1985Philadelphia',\n",
       "       '1986Philadelphia', '1987Philadelphia'], dtype=object)"
      ]
     },
     "execution_count": 65,
     "metadata": {},
     "output_type": "execute_result"
    }
   ],
   "source": [
    "t[\"UNIIntersection\"] = t[\"IntersectionId\"].astype(str) + t[\"City\"]\n",
    "test[\"UNIIntersection\"] = test[\"IntersectionId\"].astype(str) + test[\"City\"]\n",
    "pd.concat([t[\"UNIIntersection\"],test[\"UNIIntersection\"]],axis=0).drop_duplicates().values"
   ]
  },
  {
   "cell_type": "code",
   "execution_count": 66,
   "metadata": {},
   "outputs": [],
   "source": [
    "la.fit(pd.concat([t[\"UNIIntersection\"],test[\"UNIIntersection\"]]).drop_duplicates().values)\n",
    "t[\"UNIIntersection\"] = la.transform(t[\"UNIIntersection\"])\n",
    "test[\"UNIIntersection\"] = la.transform(test[\"UNIIntersection\"])"
   ]
  },
  {
   "cell_type": "code",
   "execution_count": 67,
   "metadata": {},
   "outputs": [],
   "source": [
    "o = pd.get_dummies(t['City'])\n",
    "t = t.drop('City',axis = 1)\n",
    "t = t.join(o)"
   ]
  },
  {
   "cell_type": "code",
   "execution_count": 68,
   "metadata": {},
   "outputs": [],
   "source": [
    "t = t.dropna()"
   ]
  },
  {
   "cell_type": "markdown",
   "metadata": {},
   "source": [
    "#### Feature Extraction"
   ]
  },
  {
   "cell_type": "code",
   "execution_count": 69,
   "metadata": {},
   "outputs": [],
   "source": [
    "def vacation_or_not(x):\n",
    "    if x < 9 and x > 5:\n",
    "         return 'Yes'\n",
    "    elif x == 1:\n",
    "         return 'Yes'\n",
    "    elif x < 6:\n",
    "         return 'No'\n",
    "    elif x < 12:\n",
    "         return 'No'\n",
    "    else:\n",
    "         return 'Yes'\n",
    "\n",
    "t['vacationornot'] = t['Month'].apply(vacation_or_not)   "
   ]
  },
  {
   "cell_type": "code",
   "execution_count": 70,
   "metadata": {},
   "outputs": [],
   "source": [
    "def peakhours(df):\n",
    "\n",
    "    if (df['Weekend'] == 1) and (df['Hour'] < 23) and (df['Hour'] > 16 ):\n",
    "        return 'Yes'\n",
    "    elif (df['Weekend'] == 0) and (df['Hour'] < 13) and (df['Hour'] > 8 ):\n",
    "        return 'Yes'\n",
    "    elif (df['Weekend'] == 0) and (df['Hour'] < 22) and (df['Hour'] > 16 ):\n",
    "        return 'Yes'\n",
    "    else: \n",
    "        return 'No'\n",
    "\n",
    "t['Peak_Hours'] = t.apply(peakhours, axis = 1)\n"
   ]
  },
  {
   "cell_type": "code",
   "execution_count": 71,
   "metadata": {},
   "outputs": [],
   "source": [
    "def iscongested(df):\n",
    "    if (df['TotalTimeStopped_p80']>15):\n",
    "        return 'Yes'\n",
    "    else:\n",
    "        return 'No'\n",
    "    \n",
    "t['Iscongested']=t.apply(iscongested,axis=1)"
   ]
  },
  {
   "cell_type": "code",
   "execution_count": 73,
   "metadata": {},
   "outputs": [
    {
     "data": {
      "text/plain": [
       "<seaborn.axisgrid.FacetGrid at 0x1f9822248e0>"
      ]
     },
     "execution_count": 73,
     "metadata": {},
     "output_type": "execute_result"
    },
    {
     "data": {
      "image/png": "[encoded data removed]",
      "text/plain": [
       "<Figure size 428.125x360 with 1 Axes>"
      ]
     },
     "metadata": {
      "needs_background": "light"
     },
     "output_type": "display_data"
    }
   ],
   "source": [
    "x,y = 'Peak_Hours', 'Iscongested'\n",
    "\n",
    "(t\n",
    ".groupby(x)[y]\n",
    ".value_counts(normalize=True)\n",
    ".mul(100)\n",
    ".rename('percent')\n",
    ".reset_index()\n",
    ".pipe((sns.catplot,'data'), x=x,y='percent',hue=y,kind='bar'))"
   ]
  },
  {
   "cell_type": "code",
   "execution_count": 74,
   "metadata": {},
   "outputs": [
    {
     "data": {
      "text/plain": [
       "<seaborn.axisgrid.FacetGrid at 0x1f9c38adc70>"
      ]
     },
     "execution_count": 74,
     "metadata": {},
     "output_type": "execute_result"
    },
    {
     "data": {
      "image/png": "[encoded data removed]",
      "text/plain": [
       "<Figure size 428.125x360 with 1 Axes>"
      ]
     },
     "metadata": {
      "needs_background": "light"
     },
     "output_type": "display_data"
    }
   ],
   "source": [
    "x,y = 'vacationornot', 'Iscongested'\n",
    "\n",
    "(t\n",
    ".groupby(x)[y]\n",
    ".value_counts(normalize=True)\n",
    ".mul(100)\n",
    ".rename('percent')\n",
    ".reset_index()\n",
    ".pipe((sns.catplot,'data'), x=x,y='percent',hue=y,kind='bar'))"
   ]
  },
  {
   "cell_type": "markdown",
   "metadata": {},
   "source": [
    "#### Finding outliers in data"
   ]
  },
  {
   "cell_type": "code",
   "execution_count": 75,
   "metadata": {},
   "outputs": [],
   "source": [
    "import seaborn as sns"
   ]
  },
  {
   "cell_type": "code",
   "execution_count": 78,
   "metadata": {},
   "outputs": [
    {
     "data": {
      "text/plain": [
       "<AxesSubplot:xlabel='IntersectionId'>"
      ]
     },
     "execution_count": 78,
     "metadata": {},
     "output_type": "execute_result"
    },
    {
     "data": {
      "image/png": "[encoded data removed]",
      "text/plain": [
       "<Figure size 432x288 with 1 Axes>"
      ]
     },
     "metadata": {
      "needs_background": "light"
     },
     "output_type": "display_data"
    }
   ],
   "source": [
    "sns.boxplot(x = t['IntersectionId'])"
   ]
  },
  {
   "cell_type": "code",
   "execution_count": 79,
   "metadata": {},
   "outputs": [
    {
     "data": {
      "text/plain": [
       "<AxesSubplot:xlabel='Latitude'>"
      ]
     },
     "execution_count": 79,
     "metadata": {},
     "output_type": "execute_result"
    },
    {
     "data": {
      "image/png": "[encoded data removed]",
      "text/plain": [
       "<Figure size 432x288 with 1 Axes>"
      ]
     },
     "metadata": {
      "needs_background": "light"
     },
     "output_type": "display_data"
    }
   ],
   "source": [
    "sns.boxplot(x = t['Latitude'])"
   ]
  },
  {
   "cell_type": "code",
   "execution_count": 80,
   "metadata": {},
   "outputs": [
    {
     "data": {
      "text/plain": [
       "<AxesSubplot:xlabel='Longitude'>"
      ]
     },
     "execution_count": 80,
     "metadata": {},
     "output_type": "execute_result"
    },
    {
     "data": {
      "image/png": "[encoded data removed]",
      "text/plain": [
       "<Figure size 432x288 with 1 Axes>"
      ]
     },
     "metadata": {
      "needs_background": "light"
     },
     "output_type": "display_data"
    }
   ],
   "source": [
    "sns.boxplot(x = t['Longitude'])"
   ]
  },
  {
   "cell_type": "code",
   "execution_count": 81,
   "metadata": {},
   "outputs": [
    {
     "data": {
      "text/plain": [
       "0"
      ]
     },
     "execution_count": 81,
     "metadata": {},
     "output_type": "execute_result"
    }
   ],
   "source": [
    "t[(t['Hour'] > 23) | (t['Hour'] < 0)]['Hour'].count()"
   ]
  },
  {
   "cell_type": "code",
   "execution_count": 82,
   "metadata": {},
   "outputs": [
    {
     "data": {
      "text/plain": [
       "831704"
      ]
     },
     "execution_count": 82,
     "metadata": {},
     "output_type": "execute_result"
    }
   ],
   "source": [
    "t[(t['Weekend'] != 0) | (t['Weekend'] != 1)]['Weekend'].count()"
   ]
  },
  {
   "cell_type": "code",
   "execution_count": 83,
   "metadata": {},
   "outputs": [
    {
     "data": {
      "text/plain": [
       "831704"
      ]
     },
     "execution_count": 83,
     "metadata": {},
     "output_type": "execute_result"
    }
   ],
   "source": [
    "t[t['Weekend'].isin([0, 1])]['Weekend'].count()"
   ]
  },
  {
   "cell_type": "code",
   "execution_count": 84,
   "metadata": {},
   "outputs": [
    {
     "data": {
      "text/plain": [
       "(831704, 38)"
      ]
     },
     "execution_count": 84,
     "metadata": {},
     "output_type": "execute_result"
    }
   ],
   "source": [
    "t.shape"
   ]
  },
  {
   "cell_type": "code",
   "execution_count": 85,
   "metadata": {},
   "outputs": [
    {
     "data": {
      "text/plain": [
       "0"
      ]
     },
     "execution_count": 85,
     "metadata": {},
     "output_type": "execute_result"
    }
   ],
   "source": [
    "t[(t['Month'] > 12) | (t['Month'] < 1)]['Month'].count()"
   ]
  },
  {
   "cell_type": "markdown",
   "metadata": {},
   "source": [
    "#### Exporting the data"
   ]
  },
  {
   "cell_type": "code",
   "execution_count": null,
   "metadata": {},
   "outputs": [],
   "source": [
    "t.to_csv(\"C:/Users/Nikita Sivakumar/Downloads/data.csv\", index = False)"
   ]
  },
  {
   "cell_type": "markdown",
   "metadata": {},
   "source": [
    "#### Modelling"
   ]
  },
  {
   "cell_type": "code",
   "execution_count": 312,
   "metadata": {},
   "outputs": [],
   "source": [
    "Y = t[[\"TotalTimeStopped_p20\", \"TotalTimeStopped_p50\", \"TotalTimeStopped_p80\", \"DistanceToFirstStop_p20\",\"DistanceToFirstStop_p50\", \"DistanceToFirstStop_p80\" ]]\n",
    "X = t[[ \"UNIIntersection\", 'Latitude', 'Longitude',\n",
    "         'EntryHeading', 'ExitHeading', 'Hour', 'Weekend',\n",
    "       'Month', 'EncodedEntryAddress', 'EncodedExitAddress', 'IfEntryEqualsExit',\n",
    "       'Atlanta', 'Boston', 'Chicago', 'Philadelphia', 'Peak_Hours', 'vacationornot']]\n"
   ]
  },
  {
   "cell_type": "code",
   "execution_count": 313,
   "metadata": {},
   "outputs": [],
   "source": [
    "from sklearn.model_selection import train_test_split\n",
    "X_train, X_validate, y_train, y_validate = train_test_split(X, Y, test_size = 0.2, random_state = 1)"
   ]
  },
  {
   "cell_type": "markdown",
   "metadata": {},
   "source": [
    "##### Linear Regression"
   ]
  },
  {
   "cell_type": "code",
   "execution_count": 314,
   "metadata": {},
   "outputs": [],
   "source": [
    "from sklearn.linear_model import LinearRegression\n",
    "from sklearn.metrics import r2_score\n",
    "from sklearn.metrics import mean_squared_error\n",
    "\n",
    "model = LinearRegression()\n",
    "model.fit(X_train, y_train)\n",
    "y_pred = model.predict(X_validate)"
   ]
  },
  {
   "cell_type": "code",
   "execution_count": 315,
   "metadata": {},
   "outputs": [
    {
     "data": {
      "text/plain": [
       "5570.866691043546"
      ]
     },
     "execution_count": 315,
     "metadata": {},
     "output_type": "execute_result"
    }
   ],
   "source": [
    "mean_squared_error(y_validate, y_pred)"
   ]
  },
  {
   "cell_type": "code",
   "execution_count": 316,
   "metadata": {},
   "outputs": [
    {
     "data": {
      "text/plain": [
       "74.63823879918085"
      ]
     },
     "execution_count": 316,
     "metadata": {},
     "output_type": "execute_result"
    }
   ],
   "source": [
    "rmse = np.sqrt(mean_squared_error(y_validate, y_pred))\n",
    "rmse"
   ]
  },
  {
   "cell_type": "code",
   "execution_count": 317,
   "metadata": {},
   "outputs": [
    {
     "data": {
      "text/plain": [
       "0.031352613155265184"
      ]
     },
     "execution_count": 317,
     "metadata": {},
     "output_type": "execute_result"
    }
   ],
   "source": [
    "r2_score(y_validate, y_pred)"
   ]
  },
  {
   "cell_type": "code",
   "execution_count": null,
   "metadata": {},
   "outputs": [],
   "source": [
    "model = LinearRegression()\n",
    "model.fit(X_train, y_train)\n",
    "y_pred = model.predict(X_train)"
   ]
  },
  {
   "cell_type": "code",
   "execution_count": null,
   "metadata": {},
   "outputs": [],
   "source": [
    "mean_squared_error(y_train, y_pred)"
   ]
  },
  {
   "cell_type": "code",
   "execution_count": null,
   "metadata": {},
   "outputs": [],
   "source": [
    "rmse = np.sqrt(mean_squared_error(y_train, y_pred))\n",
    "rmse"
   ]
  },
  {
   "cell_type": "code",
   "execution_count": null,
   "metadata": {},
   "outputs": [],
   "source": [
    "model.score(X_train, y_train)"
   ]
  },
  {
   "cell_type": "code",
   "execution_count": null,
   "metadata": {},
   "outputs": [],
   "source": [
    "r2_score(y_train, y_pred)"
   ]
  },
  {
   "cell_type": "markdown",
   "metadata": {},
   "source": [
    "##### Random forest "
   ]
  },
  {
   "cell_type": "code",
   "execution_count": null,
   "metadata": {},
   "outputs": [],
   "source": [
    "from sklearn.ensemble import RandomForestRegressor\n",
    "model = RandomForestRegressor(n_estimators=50,max_depth=40,random_state = 0)\n",
    "model.fit(X_train, y_train)\n",
    "y_pred = model.predict(X_train)"
   ]
  },
  {
   "cell_type": "code",
   "execution_count": null,
   "metadata": {},
   "outputs": [],
   "source": [
    "mean_squared_error(y_train, y_pred)"
   ]
  },
  {
   "cell_type": "code",
   "execution_count": null,
   "metadata": {},
   "outputs": [],
   "source": [
    "model.score(X_train, y_train)"
   ]
  },
  {
   "cell_type": "code",
   "execution_count": null,
   "metadata": {},
   "outputs": [],
   "source": [
    "print(r2_score(y_train,y_pred))"
   ]
  },
  {
   "cell_type": "code",
   "execution_count": 342,
   "metadata": {},
   "outputs": [],
   "source": [
    "model = RandomForestRegressor(n_estimators=50,max_depth=40,random_state = 0)\n",
    "model.fit(X_train, y_train)\n",
    "y_pred = model.predict(X_validate)"
   ]
  },
  {
   "cell_type": "code",
   "execution_count": 343,
   "metadata": {},
   "outputs": [
    {
     "data": {
      "text/plain": [
       "1914.325199268099"
      ]
     },
     "execution_count": 343,
     "metadata": {},
     "output_type": "execute_result"
    }
   ],
   "source": [
    "mean_squared_error(y_validate, y_pred)"
   ]
  },
  {
   "cell_type": "code",
   "execution_count": 344,
   "metadata": {},
   "outputs": [
    {
     "data": {
      "text/plain": [
       "0.6635275134953719"
      ]
     },
     "execution_count": 344,
     "metadata": {},
     "output_type": "execute_result"
    }
   ],
   "source": [
    "model.score(X_validate, y_validate)"
   ]
  },
  {
   "cell_type": "code",
   "execution_count": 345,
   "metadata": {},
   "outputs": [
    {
     "name": "stdout",
     "output_type": "stream",
     "text": [
      "0.5133503413843262\n"
     ]
    }
   ],
   "source": [
    "print(r2_score(y_validate,y_pred))"
   ]
  },
  {
   "cell_type": "code",
   "execution_count": 346,
   "metadata": {},
   "outputs": [],
   "source": [
    "from matplotlib import pyplot as plt\n",
    "plt.rcParams.update({'figure.figsize': (12.0, 8.0)})\n",
    "plt.rcParams.update({'font.size': 14})"
   ]
  },
  {
   "cell_type": "code",
   "execution_count": 347,
   "metadata": {},
   "outputs": [
    {
     "data": {
      "text/plain": [
       "array([1.33835012e-01, 1.50081298e-01, 1.45014484e-01, 1.52279272e-01,\n",
       "       7.53208882e-02, 1.38781649e-01, 2.28991551e-02, 8.27625338e-02,\n",
       "       3.25905460e-02, 2.34070855e-02, 1.20337715e-02, 1.49795919e-04,\n",
       "       5.65380099e-05, 1.71052601e-04, 2.91540583e-04, 1.36114881e-02,\n",
       "       1.67138898e-02])"
      ]
     },
     "execution_count": 347,
     "metadata": {},
     "output_type": "execute_result"
    }
   ],
   "source": [
    "model.feature_importances_"
   ]
  },
  {
   "cell_type": "code",
   "execution_count": 351,
   "metadata": {},
   "outputs": [
    {
     "data": {
      "text/plain": [
       "<BarContainer object of 17 artists>"
      ]
     },
     "execution_count": 351,
     "metadata": {},
     "output_type": "execute_result"
    },
    {
     "data": {
      "image/png": "[encoded data removed]",
      "text/plain": [
       "<Figure size 864x576 with 1 Axes>"
      ]
     },
     "metadata": {},
     "output_type": "display_data"
    }
   ],
   "source": [
    "plt.barh(X.columns, model.feature_importances_)"
   ]
  },
  {
   "cell_type": "code",
   "execution_count": 352,
   "metadata": {
    "scrolled": true
   },
   "outputs": [
    {
     "data": {
      "text/plain": [
       "Text(0.5, 0, 'Random Forest Feature Importance')"
      ]
     },
     "execution_count": 352,
     "metadata": {},
     "output_type": "execute_result"
    },
    {
     "data": {
      "image/png": "[encoded data removed]",
      "text/plain": [
       "<Figure size 864x576 with 1 Axes>"
      ]
     },
     "metadata": {},
     "output_type": "display_data"
    }
   ],
   "source": [
    "sid = model.feature_importances_.argsort()\n",
    "plt.barh(X.columns[sid], model.feature_importances_[sid])\n",
    "plt.xlabel(\"Random Forest Feature Importance\")"
   ]
  },
  {
   "cell_type": "markdown",
   "metadata": {},
   "source": [
    "##### XGBoost"
   ]
  },
  {
   "cell_type": "code",
   "execution_count": null,
   "metadata": {},
   "outputs": [],
   "source": [
    "y1 = t[['TotalTimeStopped_p20']]\n",
    "y2 = t[['TotalTimeStopped_p50']]\n",
    "y3 = t[['TotalTimeStopped_p80']]\n",
    "y4 = t[['DistanceToFirstStop_p20']]\n",
    "y5 = t[['DistanceToFirstStop_p50']]\n",
    "y6 = t[['DistanceToFirstStop_p80']]\n",
    "X = t[[ 'IntersectionId', \"UNIIntersection\", 'Latitude', 'Longitude',\n",
    "         'EntryHeading', 'ExitHeading', 'Hour', 'Weekend',\n",
    "       'Month', 'EncodedEntryAddress', 'EncodedExitAddress', 'IfEntryEqualsExit',\n",
    "       'Atlanta', 'Boston', 'Chicago', 'Philadelphia']]\n",
    "Y=t[[\"TotalTimeStopped_p20\", \"TotalTimeStopped_p50\", \"TotalTimeStopped_p80\", \"DistanceToFirstStop_p20\",\"DistanceToFirstStop_p50\", \"DistanceToFirstStop_p80\" ]]"
   ]
  },
  {
   "cell_type": "code",
   "execution_count": 117,
   "metadata": {},
   "outputs": [],
   "source": [
    "from sklearn.model_selection import train_test_split\n",
    "X_train, X_test, y_train, y_test = train_test_split(X, Y, test_size = 0.2, random_state = 1)"
   ]
  },
  {
   "cell_type": "code",
   "execution_count": 118,
   "metadata": {},
   "outputs": [],
   "source": [
    "y1=y_train[['TotalTimeStopped_p20']]\n",
    "y11=y_test[['TotalTimeStopped_p20']]"
   ]
  },
  {
   "cell_type": "code",
   "execution_count": 273,
   "metadata": {},
   "outputs": [],
   "source": [
    "import xgboost\n",
    "regressor = xgboost.XGBRegressor(colsample_bytree=1,\n",
    "                 gamma=0,                 \n",
    "                 n_estimators=600,\n",
    "                 learning_rate=0.4,\n",
    "                 max_depth=7,\n",
    "                 reg_alpha=0.75,\n",
    "                 reg_lambda=0.7,\n",
    "                 subsample=1)"
   ]
  },
  {
   "cell_type": "code",
   "execution_count": 274,
   "metadata": {},
   "outputs": [],
   "source": [
    "model1 = regressor.fit(X_train, y1)\n",
    "pred1=model1.predict(X_test)"
   ]
  },
  {
   "cell_type": "code",
   "execution_count": 275,
   "metadata": {},
   "outputs": [
    {
     "data": {
      "text/plain": [
       "32.954029806701065"
      ]
     },
     "execution_count": 275,
     "metadata": {},
     "output_type": "execute_result"
    }
   ],
   "source": [
    "mean_squared_error(y11,pred1)"
   ]
  },
  {
   "cell_type": "code",
   "execution_count": 276,
   "metadata": {},
   "outputs": [
    {
     "name": "stdout",
     "output_type": "stream",
     "text": [
      "0.3467882082300249\n"
     ]
    }
   ],
   "source": [
    "print(r2_score(y11,pred1))"
   ]
  },
  {
   "cell_type": "code",
   "execution_count": null,
   "metadata": {},
   "outputs": [],
   "source": [
    "pred1=model1.predict(X_train)"
   ]
  },
  {
   "cell_type": "code",
   "execution_count": null,
   "metadata": {},
   "outputs": [],
   "source": [
    "mean_squared_error(y1,pred1)"
   ]
  },
  {
   "cell_type": "code",
   "execution_count": null,
   "metadata": {},
   "outputs": [],
   "source": [
    "print(r2_score(y11,pred1))"
   ]
  },
  {
   "cell_type": "code",
   "execution_count": null,
   "metadata": {},
   "outputs": [],
   "source": [
    "model2 = regressor.fit(X_train, y2)\n",
    "pred2=model2.predict(X_test)\n",
    "\n",
    "model3 = regressor.fit(X_train, y3)\n",
    "pred3=model3.predict(X_test)\n",
    "\n",
    "model4 = regressor.fit(X_train, y4)\n",
    "pred4=model4.predict(X_test)\n",
    "\n",
    "model5 = regressor.fit(X_train, y5)\n",
    "pred5=model5.predict(X_test)\n",
    "\n",
    "model6 = regressor.fit(X_train, y6)\n",
    "pred6=model6.predict(X_test)"
   ]
  }
 ],
 "metadata": {
  "kernelspec": {
   "display_name": "Python 3",
   "language": "python",
   "name": "python3"
  },
  "language_info": {
   "codemirror_mode": {
    "name": "ipython",
    "version": 3
   },
   "file_extension": ".py",
   "mimetype": "text/x-python",
   "name": "python",
   "nbconvert_exporter": "python",
   "pygments_lexer": "ipython3",
   "version": "3.8.8"
  }
 },
 "nbformat": 4,
 "nbformat_minor": 2
}
